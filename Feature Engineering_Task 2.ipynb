{
 "cells": [
  {
   "cell_type": "markdown",
   "id": "8953ebc3",
   "metadata": {},
   "source": [
    "## Feature Engineering"
   ]
  },
  {
   "cell_type": "code",
   "execution_count": 3,
   "id": "fdd69114",
   "metadata": {},
   "outputs": [],
   "source": [
    "import numpy as np\n",
    "import pandas as pd\n",
    "import matplotlib.pyplot as plt\n",
    "%matplotlib inline"
   ]
  },
  {
   "cell_type": "code",
   "execution_count": 4,
   "id": "d7f571a8",
   "metadata": {},
   "outputs": [],
   "source": [
    "df=pd.read_csv('loan_data.csv')"
   ]
  },
  {
   "cell_type": "code",
   "execution_count": 5,
   "id": "6233f1b6",
   "metadata": {},
   "outputs": [
    {
     "data": {
      "text/html": [
       "<div>\n",
       "<style scoped>\n",
       "    .dataframe tbody tr th:only-of-type {\n",
       "        vertical-align: middle;\n",
       "    }\n",
       "\n",
       "    .dataframe tbody tr th {\n",
       "        vertical-align: top;\n",
       "    }\n",
       "\n",
       "    .dataframe thead th {\n",
       "        text-align: right;\n",
       "    }\n",
       "</style>\n",
       "<table border=\"1\" class=\"dataframe\">\n",
       "  <thead>\n",
       "    <tr style=\"text-align: right;\">\n",
       "      <th></th>\n",
       "      <th>Id</th>\n",
       "      <th>Gender</th>\n",
       "      <th>Marital Status</th>\n",
       "      <th>Family members</th>\n",
       "      <th>Status of education</th>\n",
       "      <th>Self_Employed</th>\n",
       "      <th>Income of applicant</th>\n",
       "      <th>Income of coapplicant</th>\n",
       "      <th>LoanAmount applied for (in thoudands)</th>\n",
       "      <th>Loan_Amount_Duration</th>\n",
       "      <th>Credit_History</th>\n",
       "      <th>Property_Area</th>\n",
       "      <th>Loan_Status</th>\n",
       "    </tr>\n",
       "  </thead>\n",
       "  <tbody>\n",
       "    <tr>\n",
       "      <th>0</th>\n",
       "      <td>_RARE_</td>\n",
       "      <td>Male</td>\n",
       "      <td>No</td>\n",
       "      <td>0</td>\n",
       "      <td>Not Graduate</td>\n",
       "      <td>No</td>\n",
       "      <td>2265</td>\n",
       "      <td>2292</td>\n",
       "      <td>86.0</td>\n",
       "      <td>360.0</td>\n",
       "      <td>NaN</td>\n",
       "      <td>Rural</td>\n",
       "      <td>N</td>\n",
       "    </tr>\n",
       "    <tr>\n",
       "      <th>1</th>\n",
       "      <td>_RARE_</td>\n",
       "      <td>Female</td>\n",
       "      <td>Yes</td>\n",
       "      <td>0</td>\n",
       "      <td>Graduate</td>\n",
       "      <td>Yes</td>\n",
       "      <td>2150</td>\n",
       "      <td>2674</td>\n",
       "      <td>110.0</td>\n",
       "      <td>360.0</td>\n",
       "      <td>1.0</td>\n",
       "      <td>Rural</td>\n",
       "      <td>Y</td>\n",
       "    </tr>\n",
       "    <tr>\n",
       "      <th>2</th>\n",
       "      <td>_RARE_</td>\n",
       "      <td>Female</td>\n",
       "      <td>No</td>\n",
       "      <td>1</td>\n",
       "      <td>Graduate</td>\n",
       "      <td>NaN</td>\n",
       "      <td>4120</td>\n",
       "      <td>0</td>\n",
       "      <td>40.0</td>\n",
       "      <td>420.0</td>\n",
       "      <td>1.0</td>\n",
       "      <td>Semiurban</td>\n",
       "      <td>Y</td>\n",
       "    </tr>\n",
       "    <tr>\n",
       "      <th>3</th>\n",
       "      <td>_RARE_</td>\n",
       "      <td>Male</td>\n",
       "      <td>Yes</td>\n",
       "      <td>0</td>\n",
       "      <td>Graduate</td>\n",
       "      <td>No</td>\n",
       "      <td>8001</td>\n",
       "      <td>0</td>\n",
       "      <td>30.0</td>\n",
       "      <td>360.0</td>\n",
       "      <td>1.0</td>\n",
       "      <td>Semiurban</td>\n",
       "      <td>N</td>\n",
       "    </tr>\n",
       "    <tr>\n",
       "      <th>4</th>\n",
       "      <td>_RARE_</td>\n",
       "      <td>Male</td>\n",
       "      <td>Yes</td>\n",
       "      <td>0</td>\n",
       "      <td>Graduate</td>\n",
       "      <td>No</td>\n",
       "      <td>2797</td>\n",
       "      <td>1713</td>\n",
       "      <td>121.0</td>\n",
       "      <td>360.0</td>\n",
       "      <td>0.0</td>\n",
       "      <td>Semiurban</td>\n",
       "      <td>N</td>\n",
       "    </tr>\n",
       "  </tbody>\n",
       "</table>\n",
       "</div>"
      ],
      "text/plain": [
       "       Id  Gender Marital Status Family members Status of education  \\\n",
       "0  _RARE_    Male             No              0        Not Graduate   \n",
       "1  _RARE_  Female            Yes              0            Graduate   \n",
       "2  _RARE_  Female             No              1            Graduate   \n",
       "3  _RARE_    Male            Yes              0            Graduate   \n",
       "4  _RARE_    Male            Yes              0            Graduate   \n",
       "\n",
       "  Self_Employed  Income of applicant  Income of coapplicant  \\\n",
       "0            No                 2265                   2292   \n",
       "1           Yes                 2150                   2674   \n",
       "2           NaN                 4120                      0   \n",
       "3            No                 8001                      0   \n",
       "4            No                 2797                   1713   \n",
       "\n",
       "   LoanAmount applied for (in thoudands)  Loan_Amount_Duration  \\\n",
       "0                                   86.0                 360.0   \n",
       "1                                  110.0                 360.0   \n",
       "2                                   40.0                 420.0   \n",
       "3                                   30.0                 360.0   \n",
       "4                                  121.0                 360.0   \n",
       "\n",
       "   Credit_History Property_Area Loan_Status  \n",
       "0             NaN         Rural           N  \n",
       "1             1.0         Rural           Y  \n",
       "2             1.0     Semiurban           Y  \n",
       "3             1.0     Semiurban           N  \n",
       "4             0.0     Semiurban           N  "
      ]
     },
     "execution_count": 5,
     "metadata": {},
     "output_type": "execute_result"
    }
   ],
   "source": [
    "df.head()"
   ]
  },
  {
   "cell_type": "code",
   "execution_count": 6,
   "id": "b773e30c",
   "metadata": {},
   "outputs": [
    {
     "data": {
      "text/plain": [
       "Index(['Id', 'Gender', 'Marital Status', 'Family members',\n",
       "       'Status of education', 'Self_Employed', 'Income of applicant',\n",
       "       'Income of coapplicant', 'LoanAmount applied for (in thoudands)',\n",
       "       'Loan_Amount_Duration', 'Credit_History', 'Property_Area',\n",
       "       'Loan_Status'],\n",
       "      dtype='object')"
      ]
     },
     "execution_count": 6,
     "metadata": {},
     "output_type": "execute_result"
    }
   ],
   "source": [
    "df.columns"
   ]
  },
  {
   "cell_type": "code",
   "execution_count": 7,
   "id": "cbaae8b4",
   "metadata": {},
   "outputs": [
    {
     "data": {
      "text/html": [
       "<div>\n",
       "<style scoped>\n",
       "    .dataframe tbody tr th:only-of-type {\n",
       "        vertical-align: middle;\n",
       "    }\n",
       "\n",
       "    .dataframe tbody tr th {\n",
       "        vertical-align: top;\n",
       "    }\n",
       "\n",
       "    .dataframe thead th {\n",
       "        text-align: right;\n",
       "    }\n",
       "</style>\n",
       "<table border=\"1\" class=\"dataframe\">\n",
       "  <thead>\n",
       "    <tr style=\"text-align: right;\">\n",
       "      <th></th>\n",
       "      <th>Income of applicant</th>\n",
       "      <th>Income of coapplicant</th>\n",
       "      <th>LoanAmount applied for (in thoudands)</th>\n",
       "      <th>Loan_Amount_Duration</th>\n",
       "      <th>Credit_History</th>\n",
       "    </tr>\n",
       "  </thead>\n",
       "  <tbody>\n",
       "    <tr>\n",
       "      <th>count</th>\n",
       "      <td>1000.000000</td>\n",
       "      <td>1000.000000</td>\n",
       "      <td>955.000000</td>\n",
       "      <td>970.000000</td>\n",
       "      <td>925.000000</td>\n",
       "    </tr>\n",
       "    <tr>\n",
       "      <th>mean</th>\n",
       "      <td>4985.024000</td>\n",
       "      <td>1623.355000</td>\n",
       "      <td>140.621990</td>\n",
       "      <td>343.448454</td>\n",
       "      <td>0.830270</td>\n",
       "    </tr>\n",
       "    <tr>\n",
       "      <th>std</th>\n",
       "      <td>4117.207019</td>\n",
       "      <td>1957.376118</td>\n",
       "      <td>74.612307</td>\n",
       "      <td>60.847149</td>\n",
       "      <td>0.375598</td>\n",
       "    </tr>\n",
       "    <tr>\n",
       "      <th>min</th>\n",
       "      <td>1000.000000</td>\n",
       "      <td>0.000000</td>\n",
       "      <td>30.000000</td>\n",
       "      <td>84.000000</td>\n",
       "      <td>0.000000</td>\n",
       "    </tr>\n",
       "    <tr>\n",
       "      <th>25%</th>\n",
       "      <td>2715.750000</td>\n",
       "      <td>0.000000</td>\n",
       "      <td>100.000000</td>\n",
       "      <td>360.000000</td>\n",
       "      <td>1.000000</td>\n",
       "    </tr>\n",
       "    <tr>\n",
       "      <th>50%</th>\n",
       "      <td>3719.000000</td>\n",
       "      <td>1250.000000</td>\n",
       "      <td>125.000000</td>\n",
       "      <td>360.000000</td>\n",
       "      <td>1.000000</td>\n",
       "    </tr>\n",
       "    <tr>\n",
       "      <th>75%</th>\n",
       "      <td>5652.500000</td>\n",
       "      <td>2469.000000</td>\n",
       "      <td>160.500000</td>\n",
       "      <td>360.000000</td>\n",
       "      <td>1.000000</td>\n",
       "    </tr>\n",
       "    <tr>\n",
       "      <th>max</th>\n",
       "      <td>33136.000000</td>\n",
       "      <td>10968.000000</td>\n",
       "      <td>496.000000</td>\n",
       "      <td>480.000000</td>\n",
       "      <td>1.000000</td>\n",
       "    </tr>\n",
       "  </tbody>\n",
       "</table>\n",
       "</div>"
      ],
      "text/plain": [
       "       Income of applicant  Income of coapplicant  \\\n",
       "count          1000.000000            1000.000000   \n",
       "mean           4985.024000            1623.355000   \n",
       "std            4117.207019            1957.376118   \n",
       "min            1000.000000               0.000000   \n",
       "25%            2715.750000               0.000000   \n",
       "50%            3719.000000            1250.000000   \n",
       "75%            5652.500000            2469.000000   \n",
       "max           33136.000000           10968.000000   \n",
       "\n",
       "       LoanAmount applied for (in thoudands)  Loan_Amount_Duration  \\\n",
       "count                             955.000000            970.000000   \n",
       "mean                              140.621990            343.448454   \n",
       "std                                74.612307             60.847149   \n",
       "min                                30.000000             84.000000   \n",
       "25%                               100.000000            360.000000   \n",
       "50%                               125.000000            360.000000   \n",
       "75%                               160.500000            360.000000   \n",
       "max                               496.000000            480.000000   \n",
       "\n",
       "       Credit_History  \n",
       "count      925.000000  \n",
       "mean         0.830270  \n",
       "std          0.375598  \n",
       "min          0.000000  \n",
       "25%          1.000000  \n",
       "50%          1.000000  \n",
       "75%          1.000000  \n",
       "max          1.000000  "
      ]
     },
     "execution_count": 7,
     "metadata": {},
     "output_type": "execute_result"
    }
   ],
   "source": [
    "df.describe()"
   ]
  },
  {
   "cell_type": "code",
   "execution_count": 8,
   "id": "d0bb4a61",
   "metadata": {},
   "outputs": [
    {
     "data": {
      "text/plain": [
       "Id                                        0\n",
       "Marital Status                            0\n",
       "Status of education                       0\n",
       "Income of applicant                       0\n",
       "Income of coapplicant                     0\n",
       "Property_Area                             0\n",
       "Loan_Status                               0\n",
       "Family members                           24\n",
       "Gender                                   26\n",
       "Loan_Amount_Duration                     30\n",
       "LoanAmount applied for (in thoudands)    45\n",
       "Self_Employed                            52\n",
       "Credit_History                           75\n",
       "dtype: int64"
      ]
     },
     "execution_count": 8,
     "metadata": {},
     "output_type": "execute_result"
    }
   ],
   "source": [
    "df.isnull().sum().sort_values(ascending=True)"
   ]
  },
  {
   "cell_type": "code",
   "execution_count": 9,
   "id": "cab3d2b0",
   "metadata": {},
   "outputs": [
    {
     "data": {
      "text/plain": [
       "Id                                       0.000\n",
       "Marital Status                           0.000\n",
       "Status of education                      0.000\n",
       "Income of applicant                      0.000\n",
       "Income of coapplicant                    0.000\n",
       "Property_Area                            0.000\n",
       "Loan_Status                              0.000\n",
       "Family members                           0.024\n",
       "Gender                                   0.026\n",
       "Loan_Amount_Duration                     0.030\n",
       "LoanAmount applied for (in thoudands)    0.045\n",
       "Self_Employed                            0.052\n",
       "Credit_History                           0.075\n",
       "dtype: float64"
      ]
     },
     "execution_count": 9,
     "metadata": {},
     "output_type": "execute_result"
    }
   ],
   "source": [
    "df.isnull().mean().sort_values(ascending=True)"
   ]
  },
  {
   "cell_type": "code",
   "execution_count": 10,
   "id": "97e34ee3",
   "metadata": {},
   "outputs": [
    {
     "data": {
      "text/plain": [
       "(1000, 13)"
      ]
     },
     "execution_count": 10,
     "metadata": {},
     "output_type": "execute_result"
    }
   ],
   "source": [
    "df.shape"
   ]
  },
  {
   "cell_type": "markdown",
   "id": "8a0d4879",
   "metadata": {},
   "source": [
    "## Lets compute the frequency with every feature null values"
   ]
  },
  {
   "cell_type": "code",
   "execution_count": 11,
   "id": "f5f6ecd2",
   "metadata": {},
   "outputs": [
    {
     "data": {
      "text/plain": [
       "Family members\n",
       "0     575\n",
       "1     159\n",
       "2     164\n",
       "3+     78\n",
       "Name: Family members, dtype: int64"
      ]
     },
     "execution_count": 11,
     "metadata": {},
     "output_type": "execute_result"
    }
   ],
   "source": [
    "df.groupby(['Family members'])['Family members'].count()"
   ]
  },
  {
   "cell_type": "code",
   "execution_count": 12,
   "id": "fa78ff40",
   "metadata": {},
   "outputs": [
    {
     "data": {
      "text/plain": [
       "<AxesSubplot:xlabel='Family members'>"
      ]
     },
     "execution_count": 12,
     "metadata": {},
     "output_type": "execute_result"
    },
    {
     "data": {
      "image/png": "[encoded data removed]",
      "text/plain": [
       "<Figure size 432x288 with 1 Axes>"
      ]
     },
     "metadata": {
      "needs_background": "light"
     },
     "output_type": "display_data"
    }
   ],
   "source": [
    "df.groupby(['Family members'])['Family members'].count().sort_values(ascending=False).plot.bar()"
   ]
  },
  {
   "cell_type": "code",
   "execution_count": 13,
   "id": "7e82453c",
   "metadata": {},
   "outputs": [
    {
     "data": {
      "text/plain": [
       "<AxesSubplot:>"
      ]
     },
     "execution_count": 13,
     "metadata": {},
     "output_type": "execute_result"
    },
    {
     "data": {
      "image/png": "[encoded data removed]",
      "text/plain": [
       "<Figure size 432x288 with 1 Axes>"
      ]
     },
     "metadata": {
      "needs_background": "light"
     },
     "output_type": "display_data"
    }
   ],
   "source": [
    "## We can also use another method instead groupby-\n",
    "\n",
    "df['Family members'].value_counts().plot.bar()"
   ]
  },
  {
   "cell_type": "code",
   "execution_count": 14,
   "id": "1c37c107",
   "metadata": {},
   "outputs": [
    {
     "data": {
      "text/plain": [
       "Male      808\n",
       "Female    166\n",
       "Name: Gender, dtype: int64"
      ]
     },
     "execution_count": 14,
     "metadata": {},
     "output_type": "execute_result"
    }
   ],
   "source": [
    "## Will do this for all the null categories-\n",
    "\n",
    "df['Gender'].value_counts()"
   ]
  },
  {
   "cell_type": "code",
   "execution_count": 15,
   "id": "acce91fc",
   "metadata": {},
   "outputs": [
    {
     "data": {
      "text/plain": [
       "<AxesSubplot:>"
      ]
     },
     "execution_count": 15,
     "metadata": {},
     "output_type": "execute_result"
    },
    {
     "data": {
      "image/png": "[encoded data removed]",
      "text/plain": [
       "<Figure size 432x288 with 1 Axes>"
      ]
     },
     "metadata": {
      "needs_background": "light"
     },
     "output_type": "display_data"
    }
   ],
   "source": [
    "df['Gender'].value_counts().plot.bar()"
   ]
  },
  {
   "cell_type": "code",
   "execution_count": 16,
   "id": "a42b2bae",
   "metadata": {},
   "outputs": [
    {
     "data": {
      "text/plain": [
       "360.0    844\n",
       "180.0     57\n",
       "300.0     17\n",
       "480.0     17\n",
       "84.0      12\n",
       "120.0      8\n",
       "280.0      2\n",
       "184.0      2\n",
       "364.0      2\n",
       "100.0      2\n",
       "420.0      1\n",
       "220.0      1\n",
       "181.0      1\n",
       "140.0      1\n",
       "340.0      1\n",
       "260.0      1\n",
       "400.0      1\n",
       "Name: Loan_Amount_Duration, dtype: int64"
      ]
     },
     "execution_count": 16,
     "metadata": {},
     "output_type": "execute_result"
    }
   ],
   "source": [
    "df['Loan_Amount_Duration'].value_counts()"
   ]
  },
  {
   "cell_type": "code",
   "execution_count": 17,
   "id": "f5b89ac0",
   "metadata": {},
   "outputs": [
    {
     "data": {
      "text/plain": [
       "<AxesSubplot:>"
      ]
     },
     "execution_count": 17,
     "metadata": {},
     "output_type": "execute_result"
    },
    {
     "data": {
      "image/png": "[encoded data removed]",
      "text/plain": [
       "<Figure size 432x288 with 1 Axes>"
      ]
     },
     "metadata": {
      "needs_background": "light"
     },
     "output_type": "display_data"
    }
   ],
   "source": [
    "df['Loan_Amount_Duration'].value_counts().plot.bar()"
   ]
  },
  {
   "cell_type": "code",
   "execution_count": 18,
   "id": "a99dcda6",
   "metadata": {},
   "outputs": [
    {
     "data": {
      "text/plain": [
       "120.0    35\n",
       "100.0    35\n",
       "110.0    30\n",
       "130.0    25\n",
       "150.0    15\n",
       "         ..\n",
       "208.0     1\n",
       "481.0     1\n",
       "370.0     1\n",
       "276.0     1\n",
       "259.0     1\n",
       "Name: LoanAmount applied for (in thoudands), Length: 223, dtype: int64"
      ]
     },
     "execution_count": 18,
     "metadata": {},
     "output_type": "execute_result"
    }
   ],
   "source": [
    "df['LoanAmount applied for (in thoudands)'].value_counts()"
   ]
  },
  {
   "cell_type": "code",
   "execution_count": 19,
   "id": "259fa5ac",
   "metadata": {},
   "outputs": [
    {
     "data": {
      "text/plain": [
       "<AxesSubplot:>"
      ]
     },
     "execution_count": 19,
     "metadata": {},
     "output_type": "execute_result"
    },
    {
     "data": {
      "image/png": "[encoded data removed]",
      "text/plain": [
       "<Figure size 432x288 with 1 Axes>"
      ]
     },
     "metadata": {
      "needs_background": "light"
     },
     "output_type": "display_data"
    }
   ],
   "source": [
    "df['LoanAmount applied for (in thoudands)'].value_counts().plot.bar()"
   ]
  },
  {
   "cell_type": "code",
   "execution_count": 20,
   "id": "9530934a",
   "metadata": {},
   "outputs": [
    {
     "data": {
      "text/plain": [
       "No     831\n",
       "Yes    117\n",
       "Name: Self_Employed, dtype: int64"
      ]
     },
     "execution_count": 20,
     "metadata": {},
     "output_type": "execute_result"
    }
   ],
   "source": [
    "df['Self_Employed'].value_counts()"
   ]
  },
  {
   "cell_type": "code",
   "execution_count": 21,
   "id": "b9e6ac76",
   "metadata": {},
   "outputs": [
    {
     "data": {
      "text/plain": [
       "<AxesSubplot:>"
      ]
     },
     "execution_count": 21,
     "metadata": {},
     "output_type": "execute_result"
    },
    {
     "data": {
      "image/png": "[encoded data removed]",
      "text/plain": [
       "<Figure size 432x288 with 1 Axes>"
      ]
     },
     "metadata": {
      "needs_background": "light"
     },
     "output_type": "display_data"
    }
   ],
   "source": [
    "df['Self_Employed'].value_counts().plot.bar()"
   ]
  },
  {
   "cell_type": "code",
   "execution_count": 22,
   "id": "38e17b5e",
   "metadata": {},
   "outputs": [
    {
     "data": {
      "text/plain": [
       "1.0    768\n",
       "0.0    157\n",
       "Name: Credit_History, dtype: int64"
      ]
     },
     "execution_count": 22,
     "metadata": {},
     "output_type": "execute_result"
    }
   ],
   "source": [
    "df['Credit_History'].value_counts()"
   ]
  },
  {
   "cell_type": "code",
   "execution_count": 23,
   "id": "8e73d5cf",
   "metadata": {},
   "outputs": [
    {
     "data": {
      "text/plain": [
       "<AxesSubplot:>"
      ]
     },
     "execution_count": 23,
     "metadata": {},
     "output_type": "execute_result"
    },
    {
     "data": {
      "image/png": "[encoded data removed]",
      "text/plain": [
       "<Figure size 432x288 with 1 Axes>"
      ]
     },
     "metadata": {
      "needs_background": "light"
     },
     "output_type": "display_data"
    }
   ],
   "source": [
    "df['Credit_History'].value_counts().plot.bar()"
   ]
  },
  {
   "cell_type": "markdown",
   "id": "7eb29e41",
   "metadata": {},
   "source": [
    "## Lets replace null values using imputation-"
   ]
  },
  {
   "cell_type": "code",
   "execution_count": 24,
   "id": "a758906a",
   "metadata": {},
   "outputs": [
    {
     "data": {
      "text/plain": [
       "0     575\n",
       "2     164\n",
       "1     159\n",
       "3+     78\n",
       "Name: Family members, dtype: int64"
      ]
     },
     "execution_count": 24,
     "metadata": {},
     "output_type": "execute_result"
    }
   ],
   "source": [
    "df['Family members'].value_counts()"
   ]
  },
  {
   "cell_type": "code",
   "execution_count": 25,
   "id": "7bc15a40",
   "metadata": {},
   "outputs": [
    {
     "data": {
      "text/plain": [
       "Index(['0', '2', '1', '3+'], dtype='object')"
      ]
     },
     "execution_count": 25,
     "metadata": {},
     "output_type": "execute_result"
    }
   ],
   "source": [
    "df['Family members'].value_counts().index"
   ]
  },
  {
   "cell_type": "code",
   "execution_count": 26,
   "id": "8b934282",
   "metadata": {},
   "outputs": [
    {
     "data": {
      "text/plain": [
       "575"
      ]
     },
     "execution_count": 26,
     "metadata": {},
     "output_type": "execute_result"
    }
   ],
   "source": [
    "df['Family members'].value_counts()[0]"
   ]
  },
  {
   "cell_type": "code",
   "execution_count": 27,
   "id": "05b9858b",
   "metadata": {},
   "outputs": [
    {
     "data": {
      "text/plain": [
       "'0'"
      ]
     },
     "execution_count": 27,
     "metadata": {},
     "output_type": "execute_result"
    }
   ],
   "source": [
    "df['Family members'].value_counts().index[0]"
   ]
  },
  {
   "cell_type": "code",
   "execution_count": 28,
   "id": "4abe3245",
   "metadata": {},
   "outputs": [],
   "source": [
    "def impute_nan(df,variable):\n",
    "    most_frequent_category=df[variable].value_counts().index[0]\n",
    "    df[variable].fillna(most_frequent_category,inplace=True)"
   ]
  },
  {
   "cell_type": "code",
   "execution_count": 29,
   "id": "03fa1815",
   "metadata": {},
   "outputs": [],
   "source": [
    "for feature in['Family members','Gender','Loan_Amount_Duration','LoanAmount applied for (in thoudands)','Self_Employed','Credit_History']:\n",
    "    impute_nan(df,feature)\n",
    "    "
   ]
  },
  {
   "cell_type": "code",
   "execution_count": 30,
   "id": "c4d975ad",
   "metadata": {},
   "outputs": [
    {
     "data": {
      "text/html": [
       "<div>\n",
       "<style scoped>\n",
       "    .dataframe tbody tr th:only-of-type {\n",
       "        vertical-align: middle;\n",
       "    }\n",
       "\n",
       "    .dataframe tbody tr th {\n",
       "        vertical-align: top;\n",
       "    }\n",
       "\n",
       "    .dataframe thead th {\n",
       "        text-align: right;\n",
       "    }\n",
       "</style>\n",
       "<table border=\"1\" class=\"dataframe\">\n",
       "  <thead>\n",
       "    <tr style=\"text-align: right;\">\n",
       "      <th></th>\n",
       "      <th>Id</th>\n",
       "      <th>Gender</th>\n",
       "      <th>Marital Status</th>\n",
       "      <th>Family members</th>\n",
       "      <th>Status of education</th>\n",
       "      <th>Self_Employed</th>\n",
       "      <th>Income of applicant</th>\n",
       "      <th>Income of coapplicant</th>\n",
       "      <th>LoanAmount applied for (in thoudands)</th>\n",
       "      <th>Loan_Amount_Duration</th>\n",
       "      <th>Credit_History</th>\n",
       "      <th>Property_Area</th>\n",
       "      <th>Loan_Status</th>\n",
       "    </tr>\n",
       "  </thead>\n",
       "  <tbody>\n",
       "    <tr>\n",
       "      <th>0</th>\n",
       "      <td>_RARE_</td>\n",
       "      <td>Male</td>\n",
       "      <td>No</td>\n",
       "      <td>0</td>\n",
       "      <td>Not Graduate</td>\n",
       "      <td>No</td>\n",
       "      <td>2265</td>\n",
       "      <td>2292</td>\n",
       "      <td>86.0</td>\n",
       "      <td>360.0</td>\n",
       "      <td>1.0</td>\n",
       "      <td>Rural</td>\n",
       "      <td>N</td>\n",
       "    </tr>\n",
       "    <tr>\n",
       "      <th>1</th>\n",
       "      <td>_RARE_</td>\n",
       "      <td>Female</td>\n",
       "      <td>Yes</td>\n",
       "      <td>0</td>\n",
       "      <td>Graduate</td>\n",
       "      <td>Yes</td>\n",
       "      <td>2150</td>\n",
       "      <td>2674</td>\n",
       "      <td>110.0</td>\n",
       "      <td>360.0</td>\n",
       "      <td>1.0</td>\n",
       "      <td>Rural</td>\n",
       "      <td>Y</td>\n",
       "    </tr>\n",
       "    <tr>\n",
       "      <th>2</th>\n",
       "      <td>_RARE_</td>\n",
       "      <td>Female</td>\n",
       "      <td>No</td>\n",
       "      <td>1</td>\n",
       "      <td>Graduate</td>\n",
       "      <td>No</td>\n",
       "      <td>4120</td>\n",
       "      <td>0</td>\n",
       "      <td>40.0</td>\n",
       "      <td>420.0</td>\n",
       "      <td>1.0</td>\n",
       "      <td>Semiurban</td>\n",
       "      <td>Y</td>\n",
       "    </tr>\n",
       "    <tr>\n",
       "      <th>3</th>\n",
       "      <td>_RARE_</td>\n",
       "      <td>Male</td>\n",
       "      <td>Yes</td>\n",
       "      <td>0</td>\n",
       "      <td>Graduate</td>\n",
       "      <td>No</td>\n",
       "      <td>8001</td>\n",
       "      <td>0</td>\n",
       "      <td>30.0</td>\n",
       "      <td>360.0</td>\n",
       "      <td>1.0</td>\n",
       "      <td>Semiurban</td>\n",
       "      <td>N</td>\n",
       "    </tr>\n",
       "    <tr>\n",
       "      <th>4</th>\n",
       "      <td>_RARE_</td>\n",
       "      <td>Male</td>\n",
       "      <td>Yes</td>\n",
       "      <td>0</td>\n",
       "      <td>Graduate</td>\n",
       "      <td>No</td>\n",
       "      <td>2797</td>\n",
       "      <td>1713</td>\n",
       "      <td>121.0</td>\n",
       "      <td>360.0</td>\n",
       "      <td>0.0</td>\n",
       "      <td>Semiurban</td>\n",
       "      <td>N</td>\n",
       "    </tr>\n",
       "  </tbody>\n",
       "</table>\n",
       "</div>"
      ],
      "text/plain": [
       "       Id  Gender Marital Status Family members Status of education  \\\n",
       "0  _RARE_    Male             No              0        Not Graduate   \n",
       "1  _RARE_  Female            Yes              0            Graduate   \n",
       "2  _RARE_  Female             No              1            Graduate   \n",
       "3  _RARE_    Male            Yes              0            Graduate   \n",
       "4  _RARE_    Male            Yes              0            Graduate   \n",
       "\n",
       "  Self_Employed  Income of applicant  Income of coapplicant  \\\n",
       "0            No                 2265                   2292   \n",
       "1           Yes                 2150                   2674   \n",
       "2            No                 4120                      0   \n",
       "3            No                 8001                      0   \n",
       "4            No                 2797                   1713   \n",
       "\n",
       "   LoanAmount applied for (in thoudands)  Loan_Amount_Duration  \\\n",
       "0                                   86.0                 360.0   \n",
       "1                                  110.0                 360.0   \n",
       "2                                   40.0                 420.0   \n",
       "3                                   30.0                 360.0   \n",
       "4                                  121.0                 360.0   \n",
       "\n",
       "   Credit_History Property_Area Loan_Status  \n",
       "0             1.0         Rural           N  \n",
       "1             1.0         Rural           Y  \n",
       "2             1.0     Semiurban           Y  \n",
       "3             1.0     Semiurban           N  \n",
       "4             0.0     Semiurban           N  "
      ]
     },
     "execution_count": 30,
     "metadata": {},
     "output_type": "execute_result"
    }
   ],
   "source": [
    "df.head()"
   ]
  },
  {
   "cell_type": "code",
   "execution_count": 31,
   "id": "0c3d3689",
   "metadata": {},
   "outputs": [
    {
     "data": {
      "text/plain": [
       "Id                                       0\n",
       "Gender                                   0\n",
       "Marital Status                           0\n",
       "Family members                           0\n",
       "Status of education                      0\n",
       "Self_Employed                            0\n",
       "Income of applicant                      0\n",
       "Income of coapplicant                    0\n",
       "LoanAmount applied for (in thoudands)    0\n",
       "Loan_Amount_Duration                     0\n",
       "Credit_History                           0\n",
       "Property_Area                            0\n",
       "Loan_Status                              0\n",
       "dtype: int64"
      ]
     },
     "execution_count": 31,
     "metadata": {},
     "output_type": "execute_result"
    }
   ],
   "source": [
    "df.isnull().sum()"
   ]
  },
  {
   "cell_type": "markdown",
   "id": "32294900",
   "metadata": {},
   "source": [
    "## Another method-adding a variable to capture NAN in frequent category"
   ]
  },
  {
   "cell_type": "code",
   "execution_count": 36,
   "id": "2fca2c9e",
   "metadata": {},
   "outputs": [
    {
     "data": {
      "text/html": [
       "<div>\n",
       "<style scoped>\n",
       "    .dataframe tbody tr th:only-of-type {\n",
       "        vertical-align: middle;\n",
       "    }\n",
       "\n",
       "    .dataframe tbody tr th {\n",
       "        vertical-align: top;\n",
       "    }\n",
       "\n",
       "    .dataframe thead th {\n",
       "        text-align: right;\n",
       "    }\n",
       "</style>\n",
       "<table border=\"1\" class=\"dataframe\">\n",
       "  <thead>\n",
       "    <tr style=\"text-align: right;\">\n",
       "      <th></th>\n",
       "      <th>Gender</th>\n",
       "      <th>Family members</th>\n",
       "      <th>Self_Employed</th>\n",
       "      <th>LoanAmount applied for (in thoudands)</th>\n",
       "      <th>Loan_Amount_Duration</th>\n",
       "      <th>Credit_History</th>\n",
       "    </tr>\n",
       "  </thead>\n",
       "  <tbody>\n",
       "    <tr>\n",
       "      <th>0</th>\n",
       "      <td>Male</td>\n",
       "      <td>0</td>\n",
       "      <td>No</td>\n",
       "      <td>86.0</td>\n",
       "      <td>360.0</td>\n",
       "      <td>NaN</td>\n",
       "    </tr>\n",
       "    <tr>\n",
       "      <th>1</th>\n",
       "      <td>Female</td>\n",
       "      <td>0</td>\n",
       "      <td>Yes</td>\n",
       "      <td>110.0</td>\n",
       "      <td>360.0</td>\n",
       "      <td>1.0</td>\n",
       "    </tr>\n",
       "    <tr>\n",
       "      <th>2</th>\n",
       "      <td>Female</td>\n",
       "      <td>1</td>\n",
       "      <td>NaN</td>\n",
       "      <td>40.0</td>\n",
       "      <td>420.0</td>\n",
       "      <td>1.0</td>\n",
       "    </tr>\n",
       "    <tr>\n",
       "      <th>3</th>\n",
       "      <td>Male</td>\n",
       "      <td>0</td>\n",
       "      <td>No</td>\n",
       "      <td>30.0</td>\n",
       "      <td>360.0</td>\n",
       "      <td>1.0</td>\n",
       "    </tr>\n",
       "    <tr>\n",
       "      <th>4</th>\n",
       "      <td>Male</td>\n",
       "      <td>0</td>\n",
       "      <td>No</td>\n",
       "      <td>121.0</td>\n",
       "      <td>360.0</td>\n",
       "      <td>0.0</td>\n",
       "    </tr>\n",
       "  </tbody>\n",
       "</table>\n",
       "</div>"
      ],
      "text/plain": [
       "   Gender Family members Self_Employed  LoanAmount applied for (in thoudands)  \\\n",
       "0    Male              0            No                                   86.0   \n",
       "1  Female              0           Yes                                  110.0   \n",
       "2  Female              1           NaN                                   40.0   \n",
       "3    Male              0            No                                   30.0   \n",
       "4    Male              0            No                                  121.0   \n",
       "\n",
       "   Loan_Amount_Duration  Credit_History  \n",
       "0                 360.0             NaN  \n",
       "1                 360.0             1.0  \n",
       "2                 420.0             1.0  \n",
       "3                 360.0             1.0  \n",
       "4                 360.0             0.0  "
      ]
     },
     "execution_count": 36,
     "metadata": {},
     "output_type": "execute_result"
    }
   ],
   "source": [
    "df=pd.read_csv('loan_data.csv',usecols=['Family members','Gender','Loan_Amount_Duration','LoanAmount applied for (in thoudands)','Self_Employed','Credit_History'])\n",
    "df.head()"
   ]
  },
  {
   "cell_type": "code",
   "execution_count": 37,
   "id": "7c4d382a",
   "metadata": {},
   "outputs": [],
   "source": [
    "df['Family members_New']=np.where(df['Family members'].isnull(),1,0)"
   ]
  },
  {
   "cell_type": "code",
   "execution_count": 38,
   "id": "ecc82d36",
   "metadata": {},
   "outputs": [
    {
     "data": {
      "text/html": [
       "<div>\n",
       "<style scoped>\n",
       "    .dataframe tbody tr th:only-of-type {\n",
       "        vertical-align: middle;\n",
       "    }\n",
       "\n",
       "    .dataframe tbody tr th {\n",
       "        vertical-align: top;\n",
       "    }\n",
       "\n",
       "    .dataframe thead th {\n",
       "        text-align: right;\n",
       "    }\n",
       "</style>\n",
       "<table border=\"1\" class=\"dataframe\">\n",
       "  <thead>\n",
       "    <tr style=\"text-align: right;\">\n",
       "      <th></th>\n",
       "      <th>Gender</th>\n",
       "      <th>Family members</th>\n",
       "      <th>Self_Employed</th>\n",
       "      <th>LoanAmount applied for (in thoudands)</th>\n",
       "      <th>Loan_Amount_Duration</th>\n",
       "      <th>Credit_History</th>\n",
       "      <th>Family members_New</th>\n",
       "    </tr>\n",
       "  </thead>\n",
       "  <tbody>\n",
       "    <tr>\n",
       "      <th>0</th>\n",
       "      <td>Male</td>\n",
       "      <td>0</td>\n",
       "      <td>No</td>\n",
       "      <td>86.0</td>\n",
       "      <td>360.0</td>\n",
       "      <td>NaN</td>\n",
       "      <td>0</td>\n",
       "    </tr>\n",
       "    <tr>\n",
       "      <th>1</th>\n",
       "      <td>Female</td>\n",
       "      <td>0</td>\n",
       "      <td>Yes</td>\n",
       "      <td>110.0</td>\n",
       "      <td>360.0</td>\n",
       "      <td>1.0</td>\n",
       "      <td>0</td>\n",
       "    </tr>\n",
       "    <tr>\n",
       "      <th>2</th>\n",
       "      <td>Female</td>\n",
       "      <td>1</td>\n",
       "      <td>NaN</td>\n",
       "      <td>40.0</td>\n",
       "      <td>420.0</td>\n",
       "      <td>1.0</td>\n",
       "      <td>0</td>\n",
       "    </tr>\n",
       "    <tr>\n",
       "      <th>3</th>\n",
       "      <td>Male</td>\n",
       "      <td>0</td>\n",
       "      <td>No</td>\n",
       "      <td>30.0</td>\n",
       "      <td>360.0</td>\n",
       "      <td>1.0</td>\n",
       "      <td>0</td>\n",
       "    </tr>\n",
       "    <tr>\n",
       "      <th>4</th>\n",
       "      <td>Male</td>\n",
       "      <td>0</td>\n",
       "      <td>No</td>\n",
       "      <td>121.0</td>\n",
       "      <td>360.0</td>\n",
       "      <td>0.0</td>\n",
       "      <td>0</td>\n",
       "    </tr>\n",
       "  </tbody>\n",
       "</table>\n",
       "</div>"
      ],
      "text/plain": [
       "   Gender Family members Self_Employed  LoanAmount applied for (in thoudands)  \\\n",
       "0    Male              0            No                                   86.0   \n",
       "1  Female              0           Yes                                  110.0   \n",
       "2  Female              1           NaN                                   40.0   \n",
       "3    Male              0            No                                   30.0   \n",
       "4    Male              0            No                                  121.0   \n",
       "\n",
       "   Loan_Amount_Duration  Credit_History  Family members_New  \n",
       "0                 360.0             NaN                   0  \n",
       "1                 360.0             1.0                   0  \n",
       "2                 420.0             1.0                   0  \n",
       "3                 360.0             1.0                   0  \n",
       "4                 360.0             0.0                   0  "
      ]
     },
     "execution_count": 38,
     "metadata": {},
     "output_type": "execute_result"
    }
   ],
   "source": [
    "df.head()"
   ]
  },
  {
   "cell_type": "code",
   "execution_count": 40,
   "id": "3c63bda8",
   "metadata": {},
   "outputs": [
    {
     "data": {
      "text/plain": [
       "0    0\n",
       "Name: Family members, dtype: object"
      ]
     },
     "execution_count": 40,
     "metadata": {},
     "output_type": "execute_result"
    }
   ],
   "source": [
    "df['Family members'].mode()"
   ]
  },
  {
   "cell_type": "code",
   "execution_count": 43,
   "id": "d461c7fc",
   "metadata": {},
   "outputs": [],
   "source": [
    "frequent=df['Family members'].mode()[0]"
   ]
  },
  {
   "cell_type": "code",
   "execution_count": 44,
   "id": "0d7b140f",
   "metadata": {},
   "outputs": [],
   "source": [
    "df['Family members'].fillna(frequent,inplace=True)"
   ]
  },
  {
   "cell_type": "code",
   "execution_count": 45,
   "id": "61281534",
   "metadata": {},
   "outputs": [
    {
     "data": {
      "text/html": [
       "<div>\n",
       "<style scoped>\n",
       "    .dataframe tbody tr th:only-of-type {\n",
       "        vertical-align: middle;\n",
       "    }\n",
       "\n",
       "    .dataframe tbody tr th {\n",
       "        vertical-align: top;\n",
       "    }\n",
       "\n",
       "    .dataframe thead th {\n",
       "        text-align: right;\n",
       "    }\n",
       "</style>\n",
       "<table border=\"1\" class=\"dataframe\">\n",
       "  <thead>\n",
       "    <tr style=\"text-align: right;\">\n",
       "      <th></th>\n",
       "      <th>Gender</th>\n",
       "      <th>Family members</th>\n",
       "      <th>Self_Employed</th>\n",
       "      <th>LoanAmount applied for (in thoudands)</th>\n",
       "      <th>Loan_Amount_Duration</th>\n",
       "      <th>Credit_History</th>\n",
       "      <th>Family members_New</th>\n",
       "    </tr>\n",
       "  </thead>\n",
       "  <tbody>\n",
       "    <tr>\n",
       "      <th>0</th>\n",
       "      <td>Male</td>\n",
       "      <td>0</td>\n",
       "      <td>No</td>\n",
       "      <td>86.0</td>\n",
       "      <td>360.0</td>\n",
       "      <td>NaN</td>\n",
       "      <td>0</td>\n",
       "    </tr>\n",
       "    <tr>\n",
       "      <th>1</th>\n",
       "      <td>Female</td>\n",
       "      <td>0</td>\n",
       "      <td>Yes</td>\n",
       "      <td>110.0</td>\n",
       "      <td>360.0</td>\n",
       "      <td>1.0</td>\n",
       "      <td>0</td>\n",
       "    </tr>\n",
       "    <tr>\n",
       "      <th>2</th>\n",
       "      <td>Female</td>\n",
       "      <td>1</td>\n",
       "      <td>NaN</td>\n",
       "      <td>40.0</td>\n",
       "      <td>420.0</td>\n",
       "      <td>1.0</td>\n",
       "      <td>0</td>\n",
       "    </tr>\n",
       "    <tr>\n",
       "      <th>3</th>\n",
       "      <td>Male</td>\n",
       "      <td>0</td>\n",
       "      <td>No</td>\n",
       "      <td>30.0</td>\n",
       "      <td>360.0</td>\n",
       "      <td>1.0</td>\n",
       "      <td>0</td>\n",
       "    </tr>\n",
       "    <tr>\n",
       "      <th>4</th>\n",
       "      <td>Male</td>\n",
       "      <td>0</td>\n",
       "      <td>No</td>\n",
       "      <td>121.0</td>\n",
       "      <td>360.0</td>\n",
       "      <td>0.0</td>\n",
       "      <td>0</td>\n",
       "    </tr>\n",
       "  </tbody>\n",
       "</table>\n",
       "</div>"
      ],
      "text/plain": [
       "   Gender Family members Self_Employed  LoanAmount applied for (in thoudands)  \\\n",
       "0    Male              0            No                                   86.0   \n",
       "1  Female              0           Yes                                  110.0   \n",
       "2  Female              1           NaN                                   40.0   \n",
       "3    Male              0            No                                   30.0   \n",
       "4    Male              0            No                                  121.0   \n",
       "\n",
       "   Loan_Amount_Duration  Credit_History  Family members_New  \n",
       "0                 360.0             NaN                   0  \n",
       "1                 360.0             1.0                   0  \n",
       "2                 420.0             1.0                   0  \n",
       "3                 360.0             1.0                   0  \n",
       "4                 360.0             0.0                   0  "
      ]
     },
     "execution_count": 45,
     "metadata": {},
     "output_type": "execute_result"
    }
   ],
   "source": [
    "df.head()"
   ]
  },
  {
   "cell_type": "code",
   "execution_count": 46,
   "id": "b222ff50",
   "metadata": {},
   "outputs": [],
   "source": [
    "## Lets do this for other categories having NAN.\n",
    "df['Self_Employed_New']=np.where(df['Self_Employed'].isnull(),1,0)\n",
    "frequent=df['Self_Employed'].mode()[0]\n",
    "df['Self_Employed'].fillna(frequent,inplace=True)"
   ]
  },
  {
   "cell_type": "code",
   "execution_count": 47,
   "id": "49ad7a93",
   "metadata": {},
   "outputs": [
    {
     "data": {
      "text/html": [
       "<div>\n",
       "<style scoped>\n",
       "    .dataframe tbody tr th:only-of-type {\n",
       "        vertical-align: middle;\n",
       "    }\n",
       "\n",
       "    .dataframe tbody tr th {\n",
       "        vertical-align: top;\n",
       "    }\n",
       "\n",
       "    .dataframe thead th {\n",
       "        text-align: right;\n",
       "    }\n",
       "</style>\n",
       "<table border=\"1\" class=\"dataframe\">\n",
       "  <thead>\n",
       "    <tr style=\"text-align: right;\">\n",
       "      <th></th>\n",
       "      <th>Gender</th>\n",
       "      <th>Family members</th>\n",
       "      <th>Self_Employed</th>\n",
       "      <th>LoanAmount applied for (in thoudands)</th>\n",
       "      <th>Loan_Amount_Duration</th>\n",
       "      <th>Credit_History</th>\n",
       "      <th>Family members_New</th>\n",
       "      <th>Self_Employed_New</th>\n",
       "    </tr>\n",
       "  </thead>\n",
       "  <tbody>\n",
       "    <tr>\n",
       "      <th>0</th>\n",
       "      <td>Male</td>\n",
       "      <td>0</td>\n",
       "      <td>No</td>\n",
       "      <td>86.0</td>\n",
       "      <td>360.0</td>\n",
       "      <td>NaN</td>\n",
       "      <td>0</td>\n",
       "      <td>0</td>\n",
       "    </tr>\n",
       "    <tr>\n",
       "      <th>1</th>\n",
       "      <td>Female</td>\n",
       "      <td>0</td>\n",
       "      <td>Yes</td>\n",
       "      <td>110.0</td>\n",
       "      <td>360.0</td>\n",
       "      <td>1.0</td>\n",
       "      <td>0</td>\n",
       "      <td>0</td>\n",
       "    </tr>\n",
       "    <tr>\n",
       "      <th>2</th>\n",
       "      <td>Female</td>\n",
       "      <td>1</td>\n",
       "      <td>No</td>\n",
       "      <td>40.0</td>\n",
       "      <td>420.0</td>\n",
       "      <td>1.0</td>\n",
       "      <td>0</td>\n",
       "      <td>1</td>\n",
       "    </tr>\n",
       "    <tr>\n",
       "      <th>3</th>\n",
       "      <td>Male</td>\n",
       "      <td>0</td>\n",
       "      <td>No</td>\n",
       "      <td>30.0</td>\n",
       "      <td>360.0</td>\n",
       "      <td>1.0</td>\n",
       "      <td>0</td>\n",
       "      <td>0</td>\n",
       "    </tr>\n",
       "    <tr>\n",
       "      <th>4</th>\n",
       "      <td>Male</td>\n",
       "      <td>0</td>\n",
       "      <td>No</td>\n",
       "      <td>121.0</td>\n",
       "      <td>360.0</td>\n",
       "      <td>0.0</td>\n",
       "      <td>0</td>\n",
       "      <td>0</td>\n",
       "    </tr>\n",
       "  </tbody>\n",
       "</table>\n",
       "</div>"
      ],
      "text/plain": [
       "   Gender Family members Self_Employed  LoanAmount applied for (in thoudands)  \\\n",
       "0    Male              0            No                                   86.0   \n",
       "1  Female              0           Yes                                  110.0   \n",
       "2  Female              1            No                                   40.0   \n",
       "3    Male              0            No                                   30.0   \n",
       "4    Male              0            No                                  121.0   \n",
       "\n",
       "   Loan_Amount_Duration  Credit_History  Family members_New  Self_Employed_New  \n",
       "0                 360.0             NaN                   0                  0  \n",
       "1                 360.0             1.0                   0                  0  \n",
       "2                 420.0             1.0                   0                  1  \n",
       "3                 360.0             1.0                   0                  0  \n",
       "4                 360.0             0.0                   0                  0  "
      ]
     },
     "execution_count": 47,
     "metadata": {},
     "output_type": "execute_result"
    }
   ],
   "source": [
    "df.head()"
   ]
  },
  {
   "cell_type": "code",
   "execution_count": 48,
   "id": "a4bad3cd",
   "metadata": {},
   "outputs": [],
   "source": [
    "df['LoanAmount applied for (in thoudands)_New']=np.where(df['LoanAmount applied for (in thoudands)'].isnull(),1,0)\n",
    "frequent=df['LoanAmount applied for (in thoudands)'].mode()[0]\n",
    "df['LoanAmount applied for (in thoudands)'].fillna(frequent,inplace=True)"
   ]
  },
  {
   "cell_type": "code",
   "execution_count": 49,
   "id": "b5764d1d",
   "metadata": {},
   "outputs": [
    {
     "data": {
      "text/html": [
       "<div>\n",
       "<style scoped>\n",
       "    .dataframe tbody tr th:only-of-type {\n",
       "        vertical-align: middle;\n",
       "    }\n",
       "\n",
       "    .dataframe tbody tr th {\n",
       "        vertical-align: top;\n",
       "    }\n",
       "\n",
       "    .dataframe thead th {\n",
       "        text-align: right;\n",
       "    }\n",
       "</style>\n",
       "<table border=\"1\" class=\"dataframe\">\n",
       "  <thead>\n",
       "    <tr style=\"text-align: right;\">\n",
       "      <th></th>\n",
       "      <th>Gender</th>\n",
       "      <th>Family members</th>\n",
       "      <th>Self_Employed</th>\n",
       "      <th>LoanAmount applied for (in thoudands)</th>\n",
       "      <th>Loan_Amount_Duration</th>\n",
       "      <th>Credit_History</th>\n",
       "      <th>Family members_New</th>\n",
       "      <th>Self_Employed_New</th>\n",
       "      <th>LoanAmount applied for (in thoudands)_New</th>\n",
       "    </tr>\n",
       "  </thead>\n",
       "  <tbody>\n",
       "    <tr>\n",
       "      <th>0</th>\n",
       "      <td>Male</td>\n",
       "      <td>0</td>\n",
       "      <td>No</td>\n",
       "      <td>86.0</td>\n",
       "      <td>360.0</td>\n",
       "      <td>NaN</td>\n",
       "      <td>0</td>\n",
       "      <td>0</td>\n",
       "      <td>0</td>\n",
       "    </tr>\n",
       "    <tr>\n",
       "      <th>1</th>\n",
       "      <td>Female</td>\n",
       "      <td>0</td>\n",
       "      <td>Yes</td>\n",
       "      <td>110.0</td>\n",
       "      <td>360.0</td>\n",
       "      <td>1.0</td>\n",
       "      <td>0</td>\n",
       "      <td>0</td>\n",
       "      <td>0</td>\n",
       "    </tr>\n",
       "    <tr>\n",
       "      <th>2</th>\n",
       "      <td>Female</td>\n",
       "      <td>1</td>\n",
       "      <td>No</td>\n",
       "      <td>40.0</td>\n",
       "      <td>420.0</td>\n",
       "      <td>1.0</td>\n",
       "      <td>0</td>\n",
       "      <td>1</td>\n",
       "      <td>0</td>\n",
       "    </tr>\n",
       "    <tr>\n",
       "      <th>3</th>\n",
       "      <td>Male</td>\n",
       "      <td>0</td>\n",
       "      <td>No</td>\n",
       "      <td>30.0</td>\n",
       "      <td>360.0</td>\n",
       "      <td>1.0</td>\n",
       "      <td>0</td>\n",
       "      <td>0</td>\n",
       "      <td>0</td>\n",
       "    </tr>\n",
       "    <tr>\n",
       "      <th>4</th>\n",
       "      <td>Male</td>\n",
       "      <td>0</td>\n",
       "      <td>No</td>\n",
       "      <td>121.0</td>\n",
       "      <td>360.0</td>\n",
       "      <td>0.0</td>\n",
       "      <td>0</td>\n",
       "      <td>0</td>\n",
       "      <td>0</td>\n",
       "    </tr>\n",
       "  </tbody>\n",
       "</table>\n",
       "</div>"
      ],
      "text/plain": [
       "   Gender Family members Self_Employed  LoanAmount applied for (in thoudands)  \\\n",
       "0    Male              0            No                                   86.0   \n",
       "1  Female              0           Yes                                  110.0   \n",
       "2  Female              1            No                                   40.0   \n",
       "3    Male              0            No                                   30.0   \n",
       "4    Male              0            No                                  121.0   \n",
       "\n",
       "   Loan_Amount_Duration  Credit_History  Family members_New  \\\n",
       "0                 360.0             NaN                   0   \n",
       "1                 360.0             1.0                   0   \n",
       "2                 420.0             1.0                   0   \n",
       "3                 360.0             1.0                   0   \n",
       "4                 360.0             0.0                   0   \n",
       "\n",
       "   Self_Employed_New  LoanAmount applied for (in thoudands)_New  \n",
       "0                  0                                          0  \n",
       "1                  0                                          0  \n",
       "2                  1                                          0  \n",
       "3                  0                                          0  \n",
       "4                  0                                          0  "
      ]
     },
     "execution_count": 49,
     "metadata": {},
     "output_type": "execute_result"
    }
   ],
   "source": [
    "df.head()"
   ]
  },
  {
   "cell_type": "code",
   "execution_count": 50,
   "id": "e055c8b8",
   "metadata": {},
   "outputs": [],
   "source": [
    "df['Loan_Amount_Duration_New']=np.where(df['Loan_Amount_Duration'].isnull(),1,0)\n",
    "frequent=df['Loan_Amount_Duration'].mode()[0]\n",
    "df['Loan_Amount_Duration'].fillna(frequent,inplace=True)"
   ]
  },
  {
   "cell_type": "code",
   "execution_count": 51,
   "id": "11c41779",
   "metadata": {},
   "outputs": [
    {
     "data": {
      "text/html": [
       "<div>\n",
       "<style scoped>\n",
       "    .dataframe tbody tr th:only-of-type {\n",
       "        vertical-align: middle;\n",
       "    }\n",
       "\n",
       "    .dataframe tbody tr th {\n",
       "        vertical-align: top;\n",
       "    }\n",
       "\n",
       "    .dataframe thead th {\n",
       "        text-align: right;\n",
       "    }\n",
       "</style>\n",
       "<table border=\"1\" class=\"dataframe\">\n",
       "  <thead>\n",
       "    <tr style=\"text-align: right;\">\n",
       "      <th></th>\n",
       "      <th>Gender</th>\n",
       "      <th>Family members</th>\n",
       "      <th>Self_Employed</th>\n",
       "      <th>LoanAmount applied for (in thoudands)</th>\n",
       "      <th>Loan_Amount_Duration</th>\n",
       "      <th>Credit_History</th>\n",
       "      <th>Family members_New</th>\n",
       "      <th>Self_Employed_New</th>\n",
       "      <th>LoanAmount applied for (in thoudands)_New</th>\n",
       "      <th>Loan_Amount_Duration_New</th>\n",
       "    </tr>\n",
       "  </thead>\n",
       "  <tbody>\n",
       "    <tr>\n",
       "      <th>0</th>\n",
       "      <td>Male</td>\n",
       "      <td>0</td>\n",
       "      <td>No</td>\n",
       "      <td>86.0</td>\n",
       "      <td>360.0</td>\n",
       "      <td>NaN</td>\n",
       "      <td>0</td>\n",
       "      <td>0</td>\n",
       "      <td>0</td>\n",
       "      <td>0</td>\n",
       "    </tr>\n",
       "    <tr>\n",
       "      <th>1</th>\n",
       "      <td>Female</td>\n",
       "      <td>0</td>\n",
       "      <td>Yes</td>\n",
       "      <td>110.0</td>\n",
       "      <td>360.0</td>\n",
       "      <td>1.0</td>\n",
       "      <td>0</td>\n",
       "      <td>0</td>\n",
       "      <td>0</td>\n",
       "      <td>0</td>\n",
       "    </tr>\n",
       "    <tr>\n",
       "      <th>2</th>\n",
       "      <td>Female</td>\n",
       "      <td>1</td>\n",
       "      <td>No</td>\n",
       "      <td>40.0</td>\n",
       "      <td>420.0</td>\n",
       "      <td>1.0</td>\n",
       "      <td>0</td>\n",
       "      <td>1</td>\n",
       "      <td>0</td>\n",
       "      <td>0</td>\n",
       "    </tr>\n",
       "    <tr>\n",
       "      <th>3</th>\n",
       "      <td>Male</td>\n",
       "      <td>0</td>\n",
       "      <td>No</td>\n",
       "      <td>30.0</td>\n",
       "      <td>360.0</td>\n",
       "      <td>1.0</td>\n",
       "      <td>0</td>\n",
       "      <td>0</td>\n",
       "      <td>0</td>\n",
       "      <td>0</td>\n",
       "    </tr>\n",
       "    <tr>\n",
       "      <th>4</th>\n",
       "      <td>Male</td>\n",
       "      <td>0</td>\n",
       "      <td>No</td>\n",
       "      <td>121.0</td>\n",
       "      <td>360.0</td>\n",
       "      <td>0.0</td>\n",
       "      <td>0</td>\n",
       "      <td>0</td>\n",
       "      <td>0</td>\n",
       "      <td>0</td>\n",
       "    </tr>\n",
       "  </tbody>\n",
       "</table>\n",
       "</div>"
      ],
      "text/plain": [
       "   Gender Family members Self_Employed  LoanAmount applied for (in thoudands)  \\\n",
       "0    Male              0            No                                   86.0   \n",
       "1  Female              0           Yes                                  110.0   \n",
       "2  Female              1            No                                   40.0   \n",
       "3    Male              0            No                                   30.0   \n",
       "4    Male              0            No                                  121.0   \n",
       "\n",
       "   Loan_Amount_Duration  Credit_History  Family members_New  \\\n",
       "0                 360.0             NaN                   0   \n",
       "1                 360.0             1.0                   0   \n",
       "2                 420.0             1.0                   0   \n",
       "3                 360.0             1.0                   0   \n",
       "4                 360.0             0.0                   0   \n",
       "\n",
       "   Self_Employed_New  LoanAmount applied for (in thoudands)_New  \\\n",
       "0                  0                                          0   \n",
       "1                  0                                          0   \n",
       "2                  1                                          0   \n",
       "3                  0                                          0   \n",
       "4                  0                                          0   \n",
       "\n",
       "   Loan_Amount_Duration_New  \n",
       "0                         0  \n",
       "1                         0  \n",
       "2                         0  \n",
       "3                         0  \n",
       "4                         0  "
      ]
     },
     "execution_count": 51,
     "metadata": {},
     "output_type": "execute_result"
    }
   ],
   "source": [
    "df.head()"
   ]
  },
  {
   "cell_type": "code",
   "execution_count": 52,
   "id": "a0bb840f",
   "metadata": {},
   "outputs": [],
   "source": [
    "df['Credit_History_New']=np.where(df['Credit_History'].isnull(),1,0)\n",
    "frequent=df['Credit_History'].mode()[0]\n",
    "df['Credit_History'].fillna(frequent,inplace=True)"
   ]
  },
  {
   "cell_type": "code",
   "execution_count": 53,
   "id": "fa782fbf",
   "metadata": {},
   "outputs": [
    {
     "data": {
      "text/html": [
       "<div>\n",
       "<style scoped>\n",
       "    .dataframe tbody tr th:only-of-type {\n",
       "        vertical-align: middle;\n",
       "    }\n",
       "\n",
       "    .dataframe tbody tr th {\n",
       "        vertical-align: top;\n",
       "    }\n",
       "\n",
       "    .dataframe thead th {\n",
       "        text-align: right;\n",
       "    }\n",
       "</style>\n",
       "<table border=\"1\" class=\"dataframe\">\n",
       "  <thead>\n",
       "    <tr style=\"text-align: right;\">\n",
       "      <th></th>\n",
       "      <th>Gender</th>\n",
       "      <th>Family members</th>\n",
       "      <th>Self_Employed</th>\n",
       "      <th>LoanAmount applied for (in thoudands)</th>\n",
       "      <th>Loan_Amount_Duration</th>\n",
       "      <th>Credit_History</th>\n",
       "      <th>Family members_New</th>\n",
       "      <th>Self_Employed_New</th>\n",
       "      <th>LoanAmount applied for (in thoudands)_New</th>\n",
       "      <th>Loan_Amount_Duration_New</th>\n",
       "      <th>Credit_History_New</th>\n",
       "    </tr>\n",
       "  </thead>\n",
       "  <tbody>\n",
       "    <tr>\n",
       "      <th>0</th>\n",
       "      <td>Male</td>\n",
       "      <td>0</td>\n",
       "      <td>No</td>\n",
       "      <td>86.0</td>\n",
       "      <td>360.0</td>\n",
       "      <td>1.0</td>\n",
       "      <td>0</td>\n",
       "      <td>0</td>\n",
       "      <td>0</td>\n",
       "      <td>0</td>\n",
       "      <td>1</td>\n",
       "    </tr>\n",
       "    <tr>\n",
       "      <th>1</th>\n",
       "      <td>Female</td>\n",
       "      <td>0</td>\n",
       "      <td>Yes</td>\n",
       "      <td>110.0</td>\n",
       "      <td>360.0</td>\n",
       "      <td>1.0</td>\n",
       "      <td>0</td>\n",
       "      <td>0</td>\n",
       "      <td>0</td>\n",
       "      <td>0</td>\n",
       "      <td>0</td>\n",
       "    </tr>\n",
       "    <tr>\n",
       "      <th>2</th>\n",
       "      <td>Female</td>\n",
       "      <td>1</td>\n",
       "      <td>No</td>\n",
       "      <td>40.0</td>\n",
       "      <td>420.0</td>\n",
       "      <td>1.0</td>\n",
       "      <td>0</td>\n",
       "      <td>1</td>\n",
       "      <td>0</td>\n",
       "      <td>0</td>\n",
       "      <td>0</td>\n",
       "    </tr>\n",
       "    <tr>\n",
       "      <th>3</th>\n",
       "      <td>Male</td>\n",
       "      <td>0</td>\n",
       "      <td>No</td>\n",
       "      <td>30.0</td>\n",
       "      <td>360.0</td>\n",
       "      <td>1.0</td>\n",
       "      <td>0</td>\n",
       "      <td>0</td>\n",
       "      <td>0</td>\n",
       "      <td>0</td>\n",
       "      <td>0</td>\n",
       "    </tr>\n",
       "    <tr>\n",
       "      <th>4</th>\n",
       "      <td>Male</td>\n",
       "      <td>0</td>\n",
       "      <td>No</td>\n",
       "      <td>121.0</td>\n",
       "      <td>360.0</td>\n",
       "      <td>0.0</td>\n",
       "      <td>0</td>\n",
       "      <td>0</td>\n",
       "      <td>0</td>\n",
       "      <td>0</td>\n",
       "      <td>0</td>\n",
       "    </tr>\n",
       "  </tbody>\n",
       "</table>\n",
       "</div>"
      ],
      "text/plain": [
       "   Gender Family members Self_Employed  LoanAmount applied for (in thoudands)  \\\n",
       "0    Male              0            No                                   86.0   \n",
       "1  Female              0           Yes                                  110.0   \n",
       "2  Female              1            No                                   40.0   \n",
       "3    Male              0            No                                   30.0   \n",
       "4    Male              0            No                                  121.0   \n",
       "\n",
       "   Loan_Amount_Duration  Credit_History  Family members_New  \\\n",
       "0                 360.0             1.0                   0   \n",
       "1                 360.0             1.0                   0   \n",
       "2                 420.0             1.0                   0   \n",
       "3                 360.0             1.0                   0   \n",
       "4                 360.0             0.0                   0   \n",
       "\n",
       "   Self_Employed_New  LoanAmount applied for (in thoudands)_New  \\\n",
       "0                  0                                          0   \n",
       "1                  0                                          0   \n",
       "2                  1                                          0   \n",
       "3                  0                                          0   \n",
       "4                  0                                          0   \n",
       "\n",
       "   Loan_Amount_Duration_New  Credit_History_New  \n",
       "0                         0                   1  \n",
       "1                         0                   0  \n",
       "2                         0                   0  \n",
       "3                         0                   0  \n",
       "4                         0                   0  "
      ]
     },
     "execution_count": 53,
     "metadata": {},
     "output_type": "execute_result"
    }
   ],
   "source": [
    "df.head()"
   ]
  },
  {
   "cell_type": "markdown",
   "id": "6a1e748e",
   "metadata": {},
   "source": [
    "## Disadvantage\n",
    "- Everytime we need to create additional features for NAN categories."
   ]
  },
  {
   "cell_type": "markdown",
   "id": "e3ece6e6",
   "metadata": {},
   "source": [
    "## Lets use most common way-\n",
    "- We use this method when we are having frequent null values. We replace NAN with a new category."
   ]
  },
  {
   "cell_type": "code",
   "execution_count": 54,
   "id": "bf64abec",
   "metadata": {},
   "outputs": [
    {
     "data": {
      "text/html": [
       "<div>\n",
       "<style scoped>\n",
       "    .dataframe tbody tr th:only-of-type {\n",
       "        vertical-align: middle;\n",
       "    }\n",
       "\n",
       "    .dataframe tbody tr th {\n",
       "        vertical-align: top;\n",
       "    }\n",
       "\n",
       "    .dataframe thead th {\n",
       "        text-align: right;\n",
       "    }\n",
       "</style>\n",
       "<table border=\"1\" class=\"dataframe\">\n",
       "  <thead>\n",
       "    <tr style=\"text-align: right;\">\n",
       "      <th></th>\n",
       "      <th>Gender</th>\n",
       "      <th>Family members</th>\n",
       "      <th>Self_Employed</th>\n",
       "      <th>LoanAmount applied for (in thoudands)</th>\n",
       "      <th>Loan_Amount_Duration</th>\n",
       "      <th>Credit_History</th>\n",
       "    </tr>\n",
       "  </thead>\n",
       "  <tbody>\n",
       "    <tr>\n",
       "      <th>0</th>\n",
       "      <td>Male</td>\n",
       "      <td>0</td>\n",
       "      <td>No</td>\n",
       "      <td>86.0</td>\n",
       "      <td>360.0</td>\n",
       "      <td>NaN</td>\n",
       "    </tr>\n",
       "    <tr>\n",
       "      <th>1</th>\n",
       "      <td>Female</td>\n",
       "      <td>0</td>\n",
       "      <td>Yes</td>\n",
       "      <td>110.0</td>\n",
       "      <td>360.0</td>\n",
       "      <td>1.0</td>\n",
       "    </tr>\n",
       "    <tr>\n",
       "      <th>2</th>\n",
       "      <td>Female</td>\n",
       "      <td>1</td>\n",
       "      <td>NaN</td>\n",
       "      <td>40.0</td>\n",
       "      <td>420.0</td>\n",
       "      <td>1.0</td>\n",
       "    </tr>\n",
       "    <tr>\n",
       "      <th>3</th>\n",
       "      <td>Male</td>\n",
       "      <td>0</td>\n",
       "      <td>No</td>\n",
       "      <td>30.0</td>\n",
       "      <td>360.0</td>\n",
       "      <td>1.0</td>\n",
       "    </tr>\n",
       "    <tr>\n",
       "      <th>4</th>\n",
       "      <td>Male</td>\n",
       "      <td>0</td>\n",
       "      <td>No</td>\n",
       "      <td>121.0</td>\n",
       "      <td>360.0</td>\n",
       "      <td>0.0</td>\n",
       "    </tr>\n",
       "  </tbody>\n",
       "</table>\n",
       "</div>"
      ],
      "text/plain": [
       "   Gender Family members Self_Employed  LoanAmount applied for (in thoudands)  \\\n",
       "0    Male              0            No                                   86.0   \n",
       "1  Female              0           Yes                                  110.0   \n",
       "2  Female              1           NaN                                   40.0   \n",
       "3    Male              0            No                                   30.0   \n",
       "4    Male              0            No                                  121.0   \n",
       "\n",
       "   Loan_Amount_Duration  Credit_History  \n",
       "0                 360.0             NaN  \n",
       "1                 360.0             1.0  \n",
       "2                 420.0             1.0  \n",
       "3                 360.0             1.0  \n",
       "4                 360.0             0.0  "
      ]
     },
     "execution_count": 54,
     "metadata": {},
     "output_type": "execute_result"
    }
   ],
   "source": [
    "df=pd.read_csv('loan_data.csv',usecols=['Family members','Gender','Loan_Amount_Duration','LoanAmount applied for (in thoudands)','Self_Employed','Credit_History'])\n",
    "df.head()"
   ]
  },
  {
   "cell_type": "code",
   "execution_count": 58,
   "id": "b4a8b5c7",
   "metadata": {},
   "outputs": [],
   "source": [
    "def impute_nan(df,variable):\n",
    "    df[variable+'Newvar']=np.where(df[variable].isnull(),'Missing',df[variable])"
   ]
  },
  {
   "cell_type": "code",
   "execution_count": 59,
   "id": "59890ff6",
   "metadata": {},
   "outputs": [],
   "source": [
    "for feature in['Family members','Gender','Loan_Amount_Duration','LoanAmount applied for (in thoudands)','Self_Employed','Credit_History']:\n",
    "    impute_nan(df,feature)"
   ]
  },
  {
   "cell_type": "code",
   "execution_count": 60,
   "id": "66e63cf7",
   "metadata": {},
   "outputs": [
    {
     "data": {
      "text/html": [
       "<div>\n",
       "<style scoped>\n",
       "    .dataframe tbody tr th:only-of-type {\n",
       "        vertical-align: middle;\n",
       "    }\n",
       "\n",
       "    .dataframe tbody tr th {\n",
       "        vertical-align: top;\n",
       "    }\n",
       "\n",
       "    .dataframe thead th {\n",
       "        text-align: right;\n",
       "    }\n",
       "</style>\n",
       "<table border=\"1\" class=\"dataframe\">\n",
       "  <thead>\n",
       "    <tr style=\"text-align: right;\">\n",
       "      <th></th>\n",
       "      <th>Gender</th>\n",
       "      <th>Family members</th>\n",
       "      <th>Self_Employed</th>\n",
       "      <th>LoanAmount applied for (in thoudands)</th>\n",
       "      <th>Loan_Amount_Duration</th>\n",
       "      <th>Credit_History</th>\n",
       "      <th>Family membersNewvar</th>\n",
       "      <th>GenderNewvar</th>\n",
       "      <th>Loan_Amount_DurationNewvar</th>\n",
       "      <th>LoanAmount applied for (in thoudands)Newvar</th>\n",
       "      <th>Self_EmployedNewvar</th>\n",
       "      <th>Credit_HistoryNewvar</th>\n",
       "    </tr>\n",
       "  </thead>\n",
       "  <tbody>\n",
       "    <tr>\n",
       "      <th>0</th>\n",
       "      <td>Male</td>\n",
       "      <td>0</td>\n",
       "      <td>No</td>\n",
       "      <td>86.0</td>\n",
       "      <td>360.0</td>\n",
       "      <td>NaN</td>\n",
       "      <td>0</td>\n",
       "      <td>Male</td>\n",
       "      <td>360.0</td>\n",
       "      <td>86.0</td>\n",
       "      <td>No</td>\n",
       "      <td>Missing</td>\n",
       "    </tr>\n",
       "    <tr>\n",
       "      <th>1</th>\n",
       "      <td>Female</td>\n",
       "      <td>0</td>\n",
       "      <td>Yes</td>\n",
       "      <td>110.0</td>\n",
       "      <td>360.0</td>\n",
       "      <td>1.0</td>\n",
       "      <td>0</td>\n",
       "      <td>Female</td>\n",
       "      <td>360.0</td>\n",
       "      <td>110.0</td>\n",
       "      <td>Yes</td>\n",
       "      <td>1.0</td>\n",
       "    </tr>\n",
       "    <tr>\n",
       "      <th>2</th>\n",
       "      <td>Female</td>\n",
       "      <td>1</td>\n",
       "      <td>NaN</td>\n",
       "      <td>40.0</td>\n",
       "      <td>420.0</td>\n",
       "      <td>1.0</td>\n",
       "      <td>1</td>\n",
       "      <td>Female</td>\n",
       "      <td>420.0</td>\n",
       "      <td>40.0</td>\n",
       "      <td>Missing</td>\n",
       "      <td>1.0</td>\n",
       "    </tr>\n",
       "    <tr>\n",
       "      <th>3</th>\n",
       "      <td>Male</td>\n",
       "      <td>0</td>\n",
       "      <td>No</td>\n",
       "      <td>30.0</td>\n",
       "      <td>360.0</td>\n",
       "      <td>1.0</td>\n",
       "      <td>0</td>\n",
       "      <td>Male</td>\n",
       "      <td>360.0</td>\n",
       "      <td>30.0</td>\n",
       "      <td>No</td>\n",
       "      <td>1.0</td>\n",
       "    </tr>\n",
       "    <tr>\n",
       "      <th>4</th>\n",
       "      <td>Male</td>\n",
       "      <td>0</td>\n",
       "      <td>No</td>\n",
       "      <td>121.0</td>\n",
       "      <td>360.0</td>\n",
       "      <td>0.0</td>\n",
       "      <td>0</td>\n",
       "      <td>Male</td>\n",
       "      <td>360.0</td>\n",
       "      <td>121.0</td>\n",
       "      <td>No</td>\n",
       "      <td>0.0</td>\n",
       "    </tr>\n",
       "  </tbody>\n",
       "</table>\n",
       "</div>"
      ],
      "text/plain": [
       "   Gender Family members Self_Employed  LoanAmount applied for (in thoudands)  \\\n",
       "0    Male              0            No                                   86.0   \n",
       "1  Female              0           Yes                                  110.0   \n",
       "2  Female              1           NaN                                   40.0   \n",
       "3    Male              0            No                                   30.0   \n",
       "4    Male              0            No                                  121.0   \n",
       "\n",
       "   Loan_Amount_Duration  Credit_History Family membersNewvar GenderNewvar  \\\n",
       "0                 360.0             NaN                    0         Male   \n",
       "1                 360.0             1.0                    0       Female   \n",
       "2                 420.0             1.0                    1       Female   \n",
       "3                 360.0             1.0                    0         Male   \n",
       "4                 360.0             0.0                    0         Male   \n",
       "\n",
       "  Loan_Amount_DurationNewvar LoanAmount applied for (in thoudands)Newvar  \\\n",
       "0                      360.0                                        86.0   \n",
       "1                      360.0                                       110.0   \n",
       "2                      420.0                                        40.0   \n",
       "3                      360.0                                        30.0   \n",
       "4                      360.0                                       121.0   \n",
       "\n",
       "  Self_EmployedNewvar Credit_HistoryNewvar  \n",
       "0                  No              Missing  \n",
       "1                 Yes                  1.0  \n",
       "2             Missing                  1.0  \n",
       "3                  No                  1.0  \n",
       "4                  No                  0.0  "
      ]
     },
     "execution_count": 60,
     "metadata": {},
     "output_type": "execute_result"
    }
   ],
   "source": [
    "df.head()"
   ]
  },
  {
   "cell_type": "code",
   "execution_count": 61,
   "id": "b9185634",
   "metadata": {},
   "outputs": [],
   "source": [
    "## Lets drop old features-\n",
    "df=df.drop(['Family members','Gender','Loan_Amount_Duration','LoanAmount applied for (in thoudands)','Self_Employed','Credit_History'],axis=1)"
   ]
  },
  {
   "cell_type": "code",
   "execution_count": 62,
   "id": "4e577bf7",
   "metadata": {},
   "outputs": [
    {
     "data": {
      "text/html": [
       "<div>\n",
       "<style scoped>\n",
       "    .dataframe tbody tr th:only-of-type {\n",
       "        vertical-align: middle;\n",
       "    }\n",
       "\n",
       "    .dataframe tbody tr th {\n",
       "        vertical-align: top;\n",
       "    }\n",
       "\n",
       "    .dataframe thead th {\n",
       "        text-align: right;\n",
       "    }\n",
       "</style>\n",
       "<table border=\"1\" class=\"dataframe\">\n",
       "  <thead>\n",
       "    <tr style=\"text-align: right;\">\n",
       "      <th></th>\n",
       "      <th>Family membersNewvar</th>\n",
       "      <th>GenderNewvar</th>\n",
       "      <th>Loan_Amount_DurationNewvar</th>\n",
       "      <th>LoanAmount applied for (in thoudands)Newvar</th>\n",
       "      <th>Self_EmployedNewvar</th>\n",
       "      <th>Credit_HistoryNewvar</th>\n",
       "    </tr>\n",
       "  </thead>\n",
       "  <tbody>\n",
       "    <tr>\n",
       "      <th>0</th>\n",
       "      <td>0</td>\n",
       "      <td>Male</td>\n",
       "      <td>360.0</td>\n",
       "      <td>86.0</td>\n",
       "      <td>No</td>\n",
       "      <td>Missing</td>\n",
       "    </tr>\n",
       "    <tr>\n",
       "      <th>1</th>\n",
       "      <td>0</td>\n",
       "      <td>Female</td>\n",
       "      <td>360.0</td>\n",
       "      <td>110.0</td>\n",
       "      <td>Yes</td>\n",
       "      <td>1.0</td>\n",
       "    </tr>\n",
       "    <tr>\n",
       "      <th>2</th>\n",
       "      <td>1</td>\n",
       "      <td>Female</td>\n",
       "      <td>420.0</td>\n",
       "      <td>40.0</td>\n",
       "      <td>Missing</td>\n",
       "      <td>1.0</td>\n",
       "    </tr>\n",
       "    <tr>\n",
       "      <th>3</th>\n",
       "      <td>0</td>\n",
       "      <td>Male</td>\n",
       "      <td>360.0</td>\n",
       "      <td>30.0</td>\n",
       "      <td>No</td>\n",
       "      <td>1.0</td>\n",
       "    </tr>\n",
       "    <tr>\n",
       "      <th>4</th>\n",
       "      <td>0</td>\n",
       "      <td>Male</td>\n",
       "      <td>360.0</td>\n",
       "      <td>121.0</td>\n",
       "      <td>No</td>\n",
       "      <td>0.0</td>\n",
       "    </tr>\n",
       "  </tbody>\n",
       "</table>\n",
       "</div>"
      ],
      "text/plain": [
       "  Family membersNewvar GenderNewvar Loan_Amount_DurationNewvar  \\\n",
       "0                    0         Male                      360.0   \n",
       "1                    0       Female                      360.0   \n",
       "2                    1       Female                      420.0   \n",
       "3                    0         Male                      360.0   \n",
       "4                    0         Male                      360.0   \n",
       "\n",
       "  LoanAmount applied for (in thoudands)Newvar Self_EmployedNewvar  \\\n",
       "0                                        86.0                  No   \n",
       "1                                       110.0                 Yes   \n",
       "2                                        40.0             Missing   \n",
       "3                                        30.0                  No   \n",
       "4                                       121.0                  No   \n",
       "\n",
       "  Credit_HistoryNewvar  \n",
       "0              Missing  \n",
       "1                  1.0  \n",
       "2                  1.0  \n",
       "3                  1.0  \n",
       "4                  0.0  "
      ]
     },
     "execution_count": 62,
     "metadata": {},
     "output_type": "execute_result"
    }
   ],
   "source": [
    "df.head()"
   ]
  },
  {
   "cell_type": "code",
   "execution_count": null,
   "id": "41b23b2d",
   "metadata": {},
   "outputs": [],
   "source": []
  }
 ],
 "metadata": {
  "kernelspec": {
   "display_name": "Python 3 (ipykernel)",
   "language": "python",
   "name": "python3"
  },
  "language_info": {
   "codemirror_mode": {
    "name": "ipython",
    "version": 3
   },
   "file_extension": ".py",
   "mimetype": "text/x-python",
   "name": "python",
   "nbconvert_exporter": "python",
   "pygments_lexer": "ipython3",
   "version": "3.9.12"
  }
 },
 "nbformat": 4,
 "nbformat_minor": 5
}
